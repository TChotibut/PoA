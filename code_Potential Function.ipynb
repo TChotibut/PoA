{
 "cells": [
  {
   "cell_type": "markdown",
   "metadata": {},
   "source": [
    "### Dynamics on Potential Function of Figure 3: Price of Anarchy, NeurIPS 2020\n",
    "The Potential Function in this case is \n",
    "$U(x) = \\frac{1}{2} \\left( \\alpha N x^2 + \\beta N (1-x)^2 \\right)$"
   ]
  },
  {
   "cell_type": "code",
   "execution_count": 1,
   "metadata": {},
   "outputs": [],
   "source": [
    "import numpy as np\n",
    "import matplotlib.pyplot as plt"
   ]
  },
  {
   "cell_type": "code",
   "execution_count": 2,
   "metadata": {
    "collapsed": true
   },
   "outputs": [],
   "source": [
    "def potential(x,a,b):\n",
    "    \n",
    "    U = (a**2)/2*((1-b)*x**2 + b*(1-x)**2);\n",
    "    \n",
    "    return U"
   ]
  },
  {
   "cell_type": "code",
   "execution_count": 3,
   "metadata": {
    "collapsed": true
   },
   "outputs": [],
   "source": [
    "def MWU(x0, b, a, n_step):\n",
    "    \n",
    "    xs = []\n",
    "    ys = []\n",
    "    \n",
    "    x_current = x0\n",
    "    \n",
    "    xs.append(x_current)\n",
    "    ys.append(potential(x_current, a,b))\n",
    "    \n",
    "    #begin the loops to update the dynamics\n",
    "    for i in range(n_step):\n",
    "        \n",
    "        x_new = x_current/(x_current + (1-x_current)*np.exp(a*(x_current - b))) \n",
    "        xs.append(x_new)\n",
    "        ys.append(potential(x_new, a,b))\n",
    "        \n",
    "        x_current = x_new\n",
    "        \n",
    "    return xs, ys"
   ]
  },
  {
   "cell_type": "code",
   "execution_count": 13,
   "metadata": {
    "collapsed": true
   },
   "outputs": [],
   "source": [
    "#initialization\n",
    "x0 = 0.2\n",
    "a= 7\n",
    "b =0.7\n",
    "n_step = 100"
   ]
  },
  {
   "cell_type": "code",
   "execution_count": 14,
   "metadata": {
    "collapsed": true
   },
   "outputs": [],
   "source": [
    "x = np.arange(0,1,0.001)\n",
    "y = potential(x,a,b)"
   ]
  },
  {
   "cell_type": "code",
   "execution_count": 15,
   "metadata": {
    "collapsed": true
   },
   "outputs": [],
   "source": [
    "xs, ys = MWU(x0, b, a, n_step)"
   ]
  },
  {
   "cell_type": "code",
   "execution_count": 16,
   "metadata": {
    "scrolled": true
   },
   "outputs": [
    {
     "data": {
      "image/png": "[encoded data removed]",
      "text/plain": [
       "<matplotlib.figure.Figure at 0x10edab470>"
      ]
     },
     "metadata": {},
     "output_type": "display_data"
    }
   ],
   "source": [
    "import matplotlib.cm as cm\n",
    "\n",
    "f = plt.figure()\n",
    "plt.plot(x, y, lw = 2, color = 'k')\n",
    "\n",
    "cmap = cm.bwr\n",
    "\n",
    "for i in range(1, n_step+1):\n",
    "    \n",
    "    c = cmap(i / n_step)\n",
    "\n",
    "#     plt.scatter(xs[i], ys[i], c = c)\n",
    "    plt.annotate('', xy=(xs[i], ys[i]), xytext=(xs[i-1], ys[i-1]),\n",
    "                   arrowprops={'arrowstyle': '-|>', 'color': c, 'lw': 0.7},\n",
    "                   va='center', ha='center',alpha=0.01)\n",
    "\n",
    "plt.scatter(xs, ys, c = 'r')\n",
    "# plt.savefig('changing_marker_color.png', dpi=80)\n",
    "plt.show()\n",
    "# fig.savefig('changing_marker_color.png', dpi=80)\n",
    "\n",
    "# # Save the figure\n",
    "f.savefig(\"potential_plot_a13p2.pdf\", bbox_inches='tight')\n",
    "\n",
    "# plt.savefig('changing_marker_color.png', dpi=80)"
   ]
  }
 ],
 "metadata": {
  "kernelspec": {
   "display_name": "Python 3",
   "language": "python",
   "name": "python3"
  },
  "language_info": {
   "codemirror_mode": {
    "name": "ipython",
    "version": 3
   },
   "file_extension": ".py",
   "mimetype": "text/x-python",
   "name": "python",
   "nbconvert_exporter": "python",
   "pygments_lexer": "ipython3",
   "version": "3.8.6"
  }
 },
 "nbformat": 4,
 "nbformat_minor": 2
}
